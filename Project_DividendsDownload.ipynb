{
 "cells": [
  {
   "cell_type": "code",
   "execution_count": 1,
   "metadata": {},
   "outputs": [
    {
     "name": "stdout",
     "output_type": "stream",
     "text": [
      "Requirement already satisfied: pip in c:\\users\\dotiw\\anaconda3\\envs\\vscode2\\lib\\site-packages (24.1.1)Note: you may need to restart the kernel to use updated packages.\n",
      "\n",
      "Collecting pip\n",
      "  Downloading pip-24.2-py3-none-any.whl.metadata (3.6 kB)\n",
      "Downloading pip-24.2-py3-none-any.whl (1.8 MB)\n",
      "   ---------------------------------------- 0.0/1.8 MB ? eta -:--:--\n",
      "   ------ --------------------------------- 0.3/1.8 MB 9.9 MB/s eta 0:00:01\n",
      "   ---------------------- ----------------- 1.0/1.8 MB 12.7 MB/s eta 0:00:01\n",
      "   ---------------------------------------  1.8/1.8 MB 14.4 MB/s eta 0:00:01\n",
      "   ---------------------------------------- 1.8/1.8 MB 11.6 MB/s eta 0:00:00\n",
      "Installing collected packages: pip\n",
      "  Attempting uninstall: pip\n",
      "    Found existing installation: pip 24.1.1\n",
      "    Uninstalling pip-24.1.1:\n",
      "      Successfully uninstalled pip-24.1.1\n",
      "Successfully installed pip-24.2\n"
     ]
    },
    {
     "name": "stderr",
     "output_type": "stream",
     "text": [
      "  WARNING: The scripts pip.exe, pip3.11.exe and pip3.exe are installed in 'c:\\Users\\dotiw\\anaconda3\\envs\\vscode2\\Scripts' which is not on PATH.\n",
      "  Consider adding this directory to PATH or, if you prefer to suppress this warning, use --no-warn-script-location.\n"
     ]
    },
    {
     "name": "stdout",
     "output_type": "stream",
     "text": [
      "Requirement already satisfied: pandas in c:\\users\\dotiw\\anaconda3\\envs\\vscode2\\lib\\site-packages (2.2.2)\n",
      "Requirement already satisfied: pandas_datareader in c:\\users\\dotiw\\anaconda3\\envs\\vscode2\\lib\\site-packages (0.10.0)\n",
      "Requirement already satisfied: openpyxl in c:\\users\\dotiw\\anaconda3\\envs\\vscode2\\lib\\site-packages (3.1.3)\n",
      "Requirement already satisfied: yfinance in c:\\users\\dotiw\\anaconda3\\envs\\vscode2\\lib\\site-packages (0.2.40)\n",
      "Requirement already satisfied: numpy>=1.23.2 in c:\\users\\dotiw\\anaconda3\\envs\\vscode2\\lib\\site-packages (from pandas) (1.26.4)\n",
      "Requirement already satisfied: python-dateutil>=2.8.2 in c:\\users\\dotiw\\anaconda3\\envs\\vscode2\\lib\\site-packages (from pandas) (2.9.0)\n",
      "Requirement already satisfied: pytz>=2020.1 in c:\\users\\dotiw\\anaconda3\\envs\\vscode2\\lib\\site-packages (from pandas) (2024.1)\n",
      "Requirement already satisfied: tzdata>=2022.7 in c:\\users\\dotiw\\anaconda3\\envs\\vscode2\\lib\\site-packages (from pandas) (2024.1)\n",
      "Requirement already satisfied: lxml in c:\\users\\dotiw\\anaconda3\\envs\\vscode2\\lib\\site-packages (from pandas_datareader) (5.2.2)\n",
      "Requirement already satisfied: requests>=2.19.0 in c:\\users\\dotiw\\anaconda3\\envs\\vscode2\\lib\\site-packages (from pandas_datareader) (2.32.3)\n",
      "Requirement already satisfied: et-xmlfile in c:\\users\\dotiw\\anaconda3\\envs\\vscode2\\lib\\site-packages (from openpyxl) (1.1.0)\n",
      "Requirement already satisfied: multitasking>=0.0.7 in c:\\users\\dotiw\\anaconda3\\envs\\vscode2\\lib\\site-packages (from yfinance) (0.0.11)\n",
      "Requirement already satisfied: platformdirs>=2.0.0 in c:\\users\\dotiw\\anaconda3\\envs\\vscode2\\lib\\site-packages (from yfinance) (4.2.2)\n",
      "Requirement already satisfied: frozendict>=2.3.4 in c:\\users\\dotiw\\anaconda3\\envs\\vscode2\\lib\\site-packages (from yfinance) (2.4.4)\n",
      "Requirement already satisfied: peewee>=3.16.2 in c:\\users\\dotiw\\anaconda3\\envs\\vscode2\\lib\\site-packages (from yfinance) (3.17.5)\n",
      "Requirement already satisfied: beautifulsoup4>=4.11.1 in c:\\users\\dotiw\\anaconda3\\envs\\vscode2\\lib\\site-packages (from yfinance) (4.12.3)\n",
      "Requirement already satisfied: html5lib>=1.1 in c:\\users\\dotiw\\anaconda3\\envs\\vscode2\\lib\\site-packages (from yfinance) (1.1)\n",
      "Requirement already satisfied: soupsieve>1.2 in c:\\users\\dotiw\\anaconda3\\envs\\vscode2\\lib\\site-packages (from beautifulsoup4>=4.11.1->yfinance) (2.5)\n",
      "Requirement already satisfied: six>=1.9 in c:\\users\\dotiw\\anaconda3\\envs\\vscode2\\lib\\site-packages (from html5lib>=1.1->yfinance) (1.16.0)\n",
      "Requirement already satisfied: webencodings in c:\\users\\dotiw\\anaconda3\\envs\\vscode2\\lib\\site-packages (from html5lib>=1.1->yfinance) (0.5.1)\n",
      "Requirement already satisfied: charset-normalizer<4,>=2 in c:\\users\\dotiw\\anaconda3\\envs\\vscode2\\lib\\site-packages (from requests>=2.19.0->pandas_datareader) (3.3.2)\n",
      "Requirement already satisfied: idna<4,>=2.5 in c:\\users\\dotiw\\anaconda3\\envs\\vscode2\\lib\\site-packages (from requests>=2.19.0->pandas_datareader) (3.7)\n",
      "Requirement already satisfied: urllib3<3,>=1.21.1 in c:\\users\\dotiw\\anaconda3\\envs\\vscode2\\lib\\site-packages (from requests>=2.19.0->pandas_datareader) (2.2.1)\n",
      "Requirement already satisfied: certifi>=2017.4.17 in c:\\users\\dotiw\\anaconda3\\envs\\vscode2\\lib\\site-packages (from requests>=2.19.0->pandas_datareader) (2024.2.2)\n",
      "Note: you may need to restart the kernel to use updated packages.\n"
     ]
    }
   ],
   "source": [
    "%pip install --upgrade pip\n",
    "%pip install pandas pandas_datareader openpyxl yfinance"
   ]
  },
  {
   "cell_type": "code",
   "execution_count": 2,
   "metadata": {},
   "outputs": [],
   "source": [
    "import pandas as pd\n",
    "import pandas_datareader.data as pdrd\n",
    "import yfinance as yf\n",
    "import datetime\n",
    "from dateutil.relativedelta import relativedelta\n",
    "#fuso_horario_local = datetime.datetime.now().astimezone().tzinfo"
   ]
  },
  {
   "cell_type": "code",
   "execution_count": 3,
   "metadata": {},
   "outputs": [],
   "source": [
    "#Carregando ativos da planilha na rede de nome ativos_lista\n",
    "path = r\"C:\\Users\\dotiw\\Documents\\UFMG\\OneDrive\\.vscode\\cli\\DividendsDownload\\ativos_lista.xlsx\"\n",
    "ativos_list = list(pd.read_excel(path)[\"Código\"].values)"
   ]
  },
  {
   "cell_type": "code",
   "execution_count": 4,
   "metadata": {},
   "outputs": [],
   "source": [
    "#Inicializar variáveis para captar a data mais antiga de distribuição de dividendos\n",
    "ativo_mais_antigo = None\n",
    "data_dividendo_atual = datetime.datetime.now().replace(tzinfo = None)\n",
    "\n",
    "#Iterar sobre os ativos na lista\n",
    "for ativo in ativos_list:\n",
    "    chamada_api = yf.Ticker(ativo+'.SA')\n",
    "    dividends = chamada_api.history(period = 'max')\n",
    "    #Verificar se exitem dados de dividendos para o ativo\n",
    "    if not dividends.empty:\n",
    "        #Econtrar a data mais antiga de dividendos\n",
    "        data_inicio = dividends.index.min()\n",
    "        #Remover a informação de fuso horário\n",
    "        data_inicio = data_inicio.replace(tzinfo = None)\n",
    "        #Verificar se o ativo e a data de início do ativo atual é menor que data de início anterior registrada\n",
    "        if data_inicio < data_dividendo_atual:\n",
    "            data_dividendo_mais_antigo = data_inicio\n",
    "            ativo_mais_antigo = ativo\n",
    "\n",
    "#print (ativo_mais_antigo+\" - Data: \"+data_dividendo_mais_antigo.strftime('%Y-%m-%d'))"
   ]
  },
  {
   "cell_type": "code",
   "execution_count": 5,
   "metadata": {},
   "outputs": [],
   "source": [
    "# Criando um DataFrame vazio para armazenar os dividendos por ativo\n",
    "tabela_dividendos_por_ativo = pd.DataFrame()\n",
    "#Obetendo os anos de referência para o index\n",
    "anos = pd.date_range(start = data_dividendo_mais_antigo, end = (datetime.datetime.now() + relativedelta(years = 1)).replace(tzinfo = None), freq = 'YE').year\n",
    "#Inserindo '.SA' no final dos códigos para usar como chave de busca na biblioteca\n",
    "for ativo in ativos_list:\n",
    "    chamada_api = yf.Ticker(ativo+'.SA')\n",
    "    #Buscando o histórico de dividendos\n",
    "    dividendos = chamada_api.history(period='max')['Dividends']\n",
    "    #Converter o índice para o tipo datetime\n",
    "    dividendos.index = pd.to_datetime(dividendos.index)\n",
    "    #Agregar os dividendos por ano\n",
    "    dividendos_por_ano = dividendos.groupby(dividendos.index.year).sum()\n",
    "    #Reindexando para garantir que todos os anos estejam presentes em todos ativos, mesmo quando zerados\n",
    "    dividendos_por_ano = dividendos_por_ano.reindex(anos, fill_value = 0)\n",
    "    #Somar os dividendos por ano (antigo)\n",
    "    #dividendos_por_ano = dividends_df.resample('Y').sum()\n",
    "    #Consolidar os dividendos por ano por ativo\n",
    "    tabela_dividendos_por_ativo[ativo] = dividendos_por_ano\n",
    "#Exportar tabela para .csv\n",
    "tabela_dividendos_por_ativo.to_csv('tabela_dividendos_por_ativo.csv')"
   ]
  }
 ],
 "metadata": {
  "kernelspec": {
   "display_name": "vscode2",
   "language": "python",
   "name": "python3"
  },
  "language_info": {
   "codemirror_mode": {
    "name": "ipython",
    "version": 3
   },
   "file_extension": ".py",
   "mimetype": "text/x-python",
   "name": "python",
   "nbconvert_exporter": "python",
   "pygments_lexer": "ipython3",
   "version": "3.11.9"
  }
 },
 "nbformat": 4,
 "nbformat_minor": 2
}
